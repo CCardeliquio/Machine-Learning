{
 "cells": [
  {
   "cell_type": "markdown",
   "id": "legal-popularity",
   "metadata": {},
   "source": [
    "<font size=\"+1\" color='#55DD44'>**Linear Regression**</font>\n",
    "\n",
    "#### <span style=\"color:#22EEFF\">Simplest Case</span>\n",
    "\n",
    "Let us begin with the simplest possible regression problem: A linear system of equations such as:\n",
    "\n",
    "$$\n",
    "x = 1.25\\\\\n",
    "x = 0.95\\\\\n",
    "x = 1.15\\\\\n",
    "$$\n",
    "\n",
    "The interpretation can be as follows: due to a lack of accuracy in a sensor, each measure provides a slightly different value. We can rewrite this problem in matrix form: $Ax = b$.\n",
    "\n",
    "$$\\begin{equation*} \\boxed{\\newline\\phantom{.}\\newline\\quad\\underbrace{\\begin{bmatrix}1\\\\1\\\\1\\end{bmatrix}}_{A}x = \\underbrace{\\begin{bmatrix}1.25\\\\0.95\\\\1.15\\end{bmatrix}}_{b}\\quad\\phantom{.}\\newline}\\end{equation*}$$\n",
    "\n",
    "The normal equation is $A^TA x = A^T b$.\n",
    "\n",
    "$$\\begin{equation*}\\boxed{\\newline\\phantom{.}\\newline\\quad\\underbrace{\\begin{bmatrix}1&1&1\\end{bmatrix}}_{A^T}\\underbrace{\\begin{bmatrix}1\\\\1\\\\1\\end{bmatrix}}_{A}x=\\underbrace{\\begin{bmatrix}1&1&1\\end{bmatrix}}_{A^T}\\underbrace{\\begin{bmatrix}1.25\\\\0.95\\\\1.15\\end{bmatrix}}_{b}\\quad\\phantom{.}\\newline}\\end{equation*}$$\n",
    "\n",
    "<center>The solution is exactly the mean of $b$, i.e., $\\mu_b = \\dfrac{1.25+0.95+1.15}{3}$</center>\n",
    "This implies that the solution of the normal equations provides the mean value of such measurements."
   ]
  },
  {
   "cell_type": "markdown",
   "id": "vocational-contents",
   "metadata": {
    "tags": []
   },
   "source": [
    "$\\newline\\newline$\n",
    "#### <span style=\"color:#22EEFF\">Regression for N tuples</span>\n",
    "\n",
    "Let us go one step further and consider $N$ tuples $(x_n,y_n)$. We want to solve for $m$ and $b$ in order to attain the linear relationship\n",
    "$$\n",
    "mx_n +b = y_n, \\;\\;n=1,\\ldots,N.\n",
    "$$\n",
    "\n",
    "This can easily be put in matrix form for the unknown variables $m$ and $b$.\n",
    "\n",
    "$$\n",
    "\\begin{equation*}\\boxed{\\newline\\phantom{.}\\newline\\quad\\begin{bmatrix} x_1 & 1 \\\\ x_2 & 1 \\\\ \\vdots & \\vdots \\\\ x_N & 1 \\end{bmatrix} \\begin{bmatrix} m \\\\ b \\end{bmatrix} = \\begin{bmatrix} y_1 \\\\ y_2 \\\\ \\vdots \\\\ y_N \\end{bmatrix}\\quad\\phantom{.}\\newline}\\end{equation*}\n",
    "$$\n",
    "\n",
    "This can easily be written in matrix form for the unknows $m$ and $b$.\n",
    "\n",
    "\\begin{equation*}\\underbrace{\\begin{bmatrix} x_1 & x_2 & \\dots & x_N \\\\ 1 & 1  & \\dots & 1 \\end{bmatrix}}_{A^T}\\underbrace{\\begin{bmatrix} x_1 & 1 \\\\ x_2 & 1 \\\\ \\vdots & \\vdots \\\\ x_N & 1 \\end{bmatrix}}_{A}=\\begin{bmatrix}\\sum_{i=1}^N x_i^2 & \\sum_{i=1}^N x_i \\\\ \\sum_{i=1}^N x_i & N \\end{bmatrix}\\end{equation*}\n",
    "\n",
    "which has the normmal form as\n",
    "$$\n",
    "A^Tb = \\begin{bmatrix} x_1 & x_2 & \\dots & x_N \\\\ 1 & 1  & \\dots & 1 \\end{bmatrix} \\begin{bmatrix} y_1 \\\\ y_2 \\\\ \\vdots \\\\ y_N \\end{bmatrix} = \\begin{bmatrix} \\sum_{i=1}^N x_iy_i \\\\ \\sum_{i=1}^N y_i \\end{bmatrix}\n",
    "$$\n",
    "\n",
    "Hence, the unknowns $m$ and $b$ can be obtained by\n",
    "\n",
    "\\begin{equation*}\\begin{bmatrix} m \\\\ b \\end{bmatrix} = \\begin{bmatrix} \\sum_{i=1}^N x_i^2 & \\sum_{i=1}^N x_i \\\\ \\sum_{i=1}^N x_i & N \\end{bmatrix}^{-1} \\begin{bmatrix} \\sum_{i=1}^N x_iy_i \\\\ \\sum_{i=1}^N y_i \\end{bmatrix}\\end{equation*}\n",
    "\n",
    "given that the inverse matrix exists. Inverting the matrix gives\n",
    "\n",
    "\\begin{equation*}\\boxed{\\newline\\phantom{.}\\newline\\quad\\begin{aligned}m&={\\frac {\\sum {x_{i}y_{i}}-{\\frac {1}{N}}\\sum {x_{i}}\\sum {y_{i}}}{\\sum {x_{i}^{2}}-{\\frac {1}{N}}(\\sum {x_{i}})^{2}}}={\\frac {\\operatorname {Cov} [x,y]}{\\operatorname {Var} [x]}}\\\\{ {b }}&={\\overline {y}}-{ {m }}\\,{\\overline {x}}\\ \\end{aligned}\\quad\\phantom{.}\\newline}\\end{equation*}"
   ]
  },
  {
   "cell_type": "markdown",
   "id": "db5dc373-03a5-4070-b457-675c9fb40594",
   "metadata": {},
   "source": [
    "#### <span style=\"color:#22EEFF\">Linear regression solving the normal equations</span>"
   ]
  },
  {
   "cell_type": "code",
   "execution_count": 18,
   "id": "substantial-jacket",
   "metadata": {},
   "outputs": [
    {
     "name": "stdout",
     "output_type": "stream",
     "text": [
      "Solution: m = 86.996 and b = 2.857\n"
     ]
    }
   ],
   "source": [
    "from sklearn.datasets import make_regression\n",
    "from sklearn.model_selection import train_test_split\n",
    "\n",
    "X, y = make_regression(n_samples=200, n_features=1, noise=20, random_state=42)\n",
    "\n",
    "size = np.shape(X)[0]\n",
    "A = np.hstack((X.reshape(size,1),np.ones((size,1))))\n",
    "b = y.reshape(size,1)\n",
    "\n",
    "# Normal equations\n",
    "A_normal = A.T @ A\n",
    "b_normal = A.T @ b\n",
    "\n",
    "sol = np.linalg.solve(A_normal, b_normal)\n",
    "print('Solution: m = %.3f and b = %.3f' % (sol[0],sol[1]))"
   ]
  },
  {
   "cell_type": "markdown",
   "id": "b7b4de11-110b-4a1a-9e84-875f6fbd4516",
   "metadata": {},
   "source": [
    "#### <span style=\"color:#22EEFF\">Linear Regression using sklearn</span>"
   ]
  },
  {
   "cell_type": "code",
   "execution_count": 19,
   "id": "common-component",
   "metadata": {},
   "outputs": [
    {
     "name": "stdout",
     "output_type": "stream",
     "text": [
      "R-Squared:  0.945 \n",
      "MSE:  437.55 \n",
      "Equation: y = 86.51 x + 2.45\n"
     ]
    },
    {
     "data": {
      "image/png": "[encoded data removed]",
      "text/plain": [
       "<Figure size 288x216 with 1 Axes>"
      ]
     },
     "metadata": {},
     "output_type": "display_data"
    }
   ],
   "source": [
    "\n",
    "from sklearn.linear_model import LinearRegression\n",
    "from sklearn.model_selection import train_test_split\n",
    "from sklearn.metrics import r2_score, mean_squared_error \n",
    "import numpy as np; import matplotlib.pyplot as plt\n",
    "import matplotlib as mpl\n",
    "mpl.rcParams[\"figure.figsize\"] = [4, 3]\n",
    "\n",
    "#Creating synthetic data and splitting into training and testing sets\n",
    "X_train, X_test, y_train, y_test = train_test_split(X,y,test_size=0.2, random_state=42)\n",
    "\n",
    "#Defining the model and training\n",
    "mod = LinearRegression()\n",
    "mod.fit(X_train,y_train)\n",
    "\n",
    "#Predicting and evaluating Score\n",
    "y_pred = mod.predict(X_test)\n",
    "print(\"R-Squared: \", round(r2_score(y_test,y_pred),3), \n",
    "      \"\\nMSE: \", round(mean_squared_error(y_pred,y_test),2),\n",
    "     \"\\nEquation: y = {:.4} x + {:.3}\".format(mod.coef_[0], mod.intercept_) )\n",
    "\n",
    "#Plotting the results w/ black background\n",
    "plt.style.use(['dark_background','./blackplot.mplstyle'])\n",
    "ax = plt.gca()\n",
    "ax.set_facecolor((0, 0, 0))\n",
    "ax.yaxis.label.set_color('white')\n",
    "plt.scatter(X_train,y_train,c='y',s=5); plt.scatter(X_test,y_test,c='r',s=8)\n",
    "plt.plot(X,mod.predict(X),'w', lw=1);"
   ]
  },
  {
   "cell_type": "markdown",
   "id": "micro-brazil",
   "metadata": {},
   "source": [
    "R-Squared and MSE can be calculated mannually (without sklearn.metrics)"
   ]
  },
  {
   "cell_type": "code",
   "execution_count": 67,
   "id": "desirable-noise",
   "metadata": {},
   "outputs": [
    {
     "name": "stdout",
     "output_type": "stream",
     "text": [
      "R-Squared: 0.945\n",
      "MSE: 437.55\n"
     ]
    }
   ],
   "source": [
    "y_mean = [np.mean(y_test)]*len(y_test)\n",
    "SSR = np.mean( (y_pred-y_test)**2 )\n",
    "SST = np.mean( (y_test-y_mean)**2 )\n",
    "R2 = 1 - SSR/SST\n",
    "print( \"R-Squared: {:.3}\\nMSE: {:.5}\".format(R2, SSR) )"
   ]
  },
  {
   "cell_type": "markdown",
   "id": "dying-southeast",
   "metadata": {},
   "source": [
    "**Some caveats and highlights of Linear Regression**: It <font color='#00AAFF'>can be regularized to avoid overfitting</font>. <font color='#FF4400'>Input data need to be scaled</font>. (Feature scaling improves the convergence of steepest descent algorithms, which do not possess the property of scale invariance)."
   ]
  },
  {
   "cell_type": "markdown",
   "id": "f2125f18-1fda-4a6f-8acb-9c5de67bb375",
   "metadata": {},
   "source": [
    "#### <span style=\"color:#22EEFF\">Linear Regression using keras</span>"
   ]
  },
  {
   "cell_type": "code",
   "execution_count": 8,
   "id": "blocked-burton",
   "metadata": {},
   "outputs": [
    {
     "name": "stdout",
     "output_type": "stream",
     "text": [
      "[array([[86.51076]], dtype=float32), array([2.4522069], dtype=float32)]\n"
     ]
    }
   ],
   "source": [
    "from keras.models import Sequential\n",
    "from keras.layers import Dense\n",
    "from keras.optimizers import Adam\n",
    "from tensorflow import keras\n",
    "\n",
    "#print(model.summary())"
   ]
  },
  {
   "cell_type": "code",
   "execution_count": 11,
   "id": "greatest-hypothetical",
   "metadata": {},
   "outputs": [],
   "source": [
    "m = []; b = []; \n",
    "for learning_rate in [10,1,0.1,0.05,0.01]:\n",
    "    model = Sequential()\n",
    "    model.add(Dense(1, input_dim=1, kernel_initializer='normal', activation='linear'))\n",
    "    opt = keras.optimizers.Adam(learning_rate)\n",
    "    model.compile(loss='mse', optimizer=opt, metrics=['mse'])\n",
    "    model.fit(x=X_train, y=y_train, batch_size=20, epochs=300, verbose=0);\n",
    "    m.append(model.get_weights()[0][0][0])\n",
    "    b.append(model.get_weights()[1][0])\n",
    "    \n",
    "for i, learning_rate in enumerate([10,1,0.1,0.05,0.01]):\n",
    "    print('learning_rate = %.2f, [m,b] = [%.3f,%.3f]' % (learning_rate,m[i],b[i]) )"
   ]
  },
  {
   "cell_type": "markdown",
   "id": "5727d8df-c9b8-4689-aeaf-a57c7592bdc9",
   "metadata": {},
   "source": [
    "#### <span style=\"color:#22EEFF\">Linear Regression using classes</span>"
   ]
  },
  {
   "cell_type": "code",
   "execution_count": 4,
   "id": "5d25e7e9-2ccd-4b0a-9ed9-d9e3cffb60f4",
   "metadata": {},
   "outputs": [],
   "source": [
    "import numpy as np\n",
    "\n",
    "class linearRegression:\n",
    "    \n",
    "    def __init__(self, learning_rate = 0.001, iters = 1000):\n",
    "        self.lr = learning_rate\n",
    "        self.n_iter = iters\n",
    "        #weights\n",
    "        self.w = None\n",
    "        #bias\n",
    "        self.b = 0\n",
    "        \n",
    "    def fit(self, X, y):\n",
    "        n_samples, n_features = X.shape\n",
    "        self.w = np.zeros(n_features)\n",
    "\n",
    "        #gradient descent\n",
    "        for _ in range(self.n_iter):\n",
    "            y_pred = np.dot(X, self.w) + self.b\n",
    "            dw = (1 / n_samples) * np.dot(X.T, (y_pred - y))\n",
    "            db = (1 / n_samples) * np.sum(y_pred - y)\n",
    "            self.w -= self.lr * dw\n",
    "            self.b -= self.lr * db\n",
    "\n",
    "    def predict(self, X):\n",
    "        y_pred_ = np.dot(X, self.w) + self.b\n",
    "        return y_pred_"
   ]
  },
  {
   "cell_type": "markdown",
   "id": "4df2eb3d-66c5-4e21-8c7c-6a14f2a18735",
   "metadata": {},
   "source": [
    "#### <span style=\"color:#22EEFF\">Driver test</span>"
   ]
  },
  {
   "cell_type": "code",
   "execution_count": 17,
   "id": "a9c1a37b-554b-4a39-a60c-ff3a14049117",
   "metadata": {},
   "outputs": [
    {
     "data": {
      "image/png": "[encoded data removed]",
      "text/plain": [
       "<Figure size 288x216 with 1 Axes>"
      ]
     },
     "metadata": {},
     "output_type": "display_data"
    }
   ],
   "source": [
    "from sklearn.datasets import make_regression\n",
    "import matplotlib.pyplot as plt\n",
    "\n",
    "X, y = make_regression(n_samples=200, n_features=1, noise=20, random_state=42)\n",
    "X_train, y_train = X[:180], y[:180]\n",
    "X_test, y_test = X[180:], y[180:]\n",
    "\n",
    "reg = linearRegression(learning_rate=0.01, iters=1000)\n",
    "reg.fit(X_train, y_train)\n",
    "\n",
    "fig, ax = plt.subplots(figsize=(4, 3))\n",
    "plt.style.use(['dark_background','./blackplot.mplstyle'])\n",
    "ax = plt.gca()\n",
    "ax.set_facecolor((0, 0, 0))\n",
    "ax.yaxis.label.set_color('white')\n",
    "plt.scatter(X_train,y_train,c='y',s=5); plt.scatter(X_test,y_test,c='r',s=8)\n",
    "plt.plot(X, reg.predict(X),'c', lw=1);"
   ]
  }
 ],
 "metadata": {
  "kernelspec": {
   "display_name": "Python 3 (ipykernel)",
   "language": "python",
   "name": "python3"
  },
  "language_info": {
   "codemirror_mode": {
    "name": "ipython",
    "version": 3
   },
   "file_extension": ".py",
   "mimetype": "text/x-python",
   "name": "python",
   "nbconvert_exporter": "python",
   "pygments_lexer": "ipython3",
   "version": "3.8.8"
  }
 },
 "nbformat": 4,
 "nbformat_minor": 5
}
